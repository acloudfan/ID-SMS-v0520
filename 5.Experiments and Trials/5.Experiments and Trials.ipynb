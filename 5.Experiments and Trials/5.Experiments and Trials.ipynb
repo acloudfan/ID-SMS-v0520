{
 "cells": [
  {
   "cell_type": "markdown",
   "metadata": {},
   "source": [
    "### Run through All Cells"
   ]
  },
  {
   "cell_type": "markdown",
   "metadata": {},
   "source": [
    "<div class=\"alert alert-block alert-info\">\n",
    "    \n",
    "### Experiments\n",
    "\n",
    "A container for the Model generation Trials. Each trial is conducted with a set of hyperparameters. The metrics for each trial are gathered and then trial runs are compared to pick the BEST model.\n",
    "\n",
    "* Knobs => Hyperparameters\n",
    "* Evaluation metrics => Objective metrics\n",
    "    \n",
    "\n",
    "    \n",
    "</div>"
   ]
  },
  {
   "cell_type": "markdown",
   "metadata": {},
   "source": [
    "<div class=\"alert alert-block alert-success\">\n",
    "    \n",
    "### 1. Create a new Experiment\n",
    "    \n",
    "![Create a new Experiment](../Images/create-new-experiment.PNG)\n",
    "\n",
    "</div>"
   ]
  },
  {
   "cell_type": "markdown",
   "metadata": {},
   "source": [
    "<div class=\"alert alert-block alert-success\">\n",
    "    \n",
    "### 2. Setup the parameters\n",
    "\n",
    "* <code style=\"background:yellow;color:black\">Experiment Name </code> \n",
    "    <code style=\"background:cyan;color:black\">my-churn-expt-101</code>\n",
    "    * Name of the experiment MUST be unique.\n",
    "    \n",
    "    \n",
    "* <code style=\"background:yellow;color:black\">Input Data</code>   \n",
    "    <code style=\"background:cyan;color:black\">s3://[YOUR-BUCKET-NAME]/churn-analysis/churn-dataset-with-header.csv</code>\n",
    "    \n",
    "* <code style=\"background:yellow;color:black\">Target Attribute Name </code> \n",
    "    <code style=\"background:cyan;color:black\">Churn?</code>\n",
    "    \n",
    "* <code style=\"background:yellow;color:black\">Output - Enter the S3 Buckt location</code> \n",
    "    <code style=\"background:cyan;color:black\">s3://[YOUR-BUCKET-NAME]/churn-analysis/experiments</code>\n",
    "    \n",
    "    \n",
    "* <code style=\"background:yellow;color:black\">Select Machine Learning Problem Type </code> \n",
    "    <code style=\"background:cyan;color:black\">Select 'Binary Classification'</code>\n",
    "    \n",
    "* <code style=\"background:yellow;color:black\">Objective Metrics </code> \n",
    "    <code style=\"background:cyan;color:black\">Select 'F1'</code>\n",
    "    \n",
    "* <code style=\"background:yellow;color:black\">Do you want to run a complete experiment?</code> \n",
    "    <code style=\"background:cyan;color:black\">Select 'No, run a pilot to create a notebook with candidate definitions'</code>\n",
    "    \n",
    "##### Open Advanced Setting\n",
    "    \n",
    "* <code style=\"background:yellow;color:black\">IAM Role</code> \n",
    "    <code style=\"background:cyan;color:black\">Select 'my-studio-role'</code>\n",
    "\n",
    "![Provide Experiment Details](../Images/experiment-details.PNG)\n",
    "![Provide Advanced Details](../Images/advanced-experiments-option.PNG)\n",
    "</div>"
   ]
  },
  {
   "cell_type": "markdown",
   "metadata": {},
   "source": [
    "<div class=\"alert alert-block alert-success\">\n",
    "    \n",
    "### 3. Analyze the generated notebooks\n",
    "\n",
    "* It takes a few minutes for the job to complete\n",
    "* Once job is completed you will see 2 buttons on the top Right\n",
    "    \n",
    "    \n",
    "![Experiment](../Images/launched-experiment.PNG)\n",
    "\n",
    "####  <code style=\"background:yellow;color:black\">Click on the buttons below to open the notebooks</code>\n",
    "\n",
    "![Generated Notebooks](../Images/book-ready-to-open.PNG)\n",
    "    \n",
    "</div>"
   ]
  },
  {
   "cell_type": "markdown",
   "metadata": {},
   "source": [
    "<div class=\"alert alert-block alert-success\">\n",
    "    \n",
    "### 4. Explore the Data Notebook\n",
    "\n",
    "* No need to execute \n",
    "    \n",
    "</div>"
   ]
  },
  {
   "cell_type": "markdown",
   "metadata": {},
   "source": [
    "<div class=\"alert alert-block alert-success\">\n",
    "    \n",
    "### 5. Update the 'Candidate Generation Notebook'\n",
    "\n",
    "* Open it and clieck on import notebook\n",
    "    \n",
    "![Import Notebook](../Images/import-notebook.PNG)\n",
    "    \n",
    "* Select the 'DataScience Kernel'\n",
    "    \n",
    "* Search for <code style=\"background:yellow;color:black\">max_jobs</code>\n",
    "* Change the value of <code style=\"background:yellow;color:black\">max_jobs=15</code> \n",
    "\n",
    "* Run all Cells in the notebook - go get a glass of water as it will take some time !!!\n",
    "    \n",
    "### Now Sagemaker is taking over and doing the leg work of generating the models !!!\n",
    "    \n",
    "</div>"
   ]
  },
  {
   "cell_type": "code",
   "execution_count": null,
   "metadata": {},
   "outputs": [],
   "source": []
  }
 ],
 "metadata": {
  "kernelspec": {
   "display_name": "",
   "name": ""
  },
  "language_info": {
   "name": ""
  }
 },
 "nbformat": 4,
 "nbformat_minor": 4
}
